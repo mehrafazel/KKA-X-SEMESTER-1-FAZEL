{
  "cells": [
    {
      "cell_type": "markdown",
      "metadata": {
        "id": "view-in-github",
        "colab_type": "text"
      },
      "source": [
        "<a href=\"https://colab.research.google.com/github/mehrafazel/KKA-X-SEMESTER-1-FAZEL/blob/main/1_Fungsi_print_fazel_M_X_2.ipynb\" target=\"_parent\"><img src=\"https://colab.research.google.com/assets/colab-badge.svg\" alt=\"Open In Colab\"/></a>"
      ]
    },
    {
      "cell_type": "markdown",
      "metadata": {
        "id": "bF7f0JXCttBd"
      },
      "source": [
        "nama:mehra fazel muhammad\n",
        "\n",
        "Kelas:X.2\n",
        "\n",
        "Nomor Absen:19"
      ]
    },
    {
      "cell_type": "markdown",
      "metadata": {
        "id": "b-TEGrEeunjW"
      },
      "source": [
        "#menampilkan teks bebas"
      ]
    },
    {
      "cell_type": "code",
      "execution_count": null,
      "metadata": {
        "colab": {
          "base_uri": "https://localhost:8080/"
        },
        "id": "kRhCPSXCvNBY",
        "outputId": "5083e144-86a5-4f07-ae6e-a1da2efa2139"
      },
      "outputs": [
        {
          "output_type": "stream",
          "name": "stdout",
          "text": [
            "halo jawir\n"
          ]
        }
      ],
      "source": [
        "print(\"halo jawir\")"
      ]
    },
    {
      "cell_type": "code",
      "execution_count": null,
      "metadata": {
        "colab": {
          "base_uri": "https://localhost:8080/"
        },
        "id": "IZFkNobZwfYg",
        "outputId": "6592cdcc-6cfc-4d02-e748-951ad2793834"
      },
      "outputs": [
        {
          "output_type": "stream",
          "name": "stdout",
          "text": [
            "mehra fazel muhammad\n"
          ]
        }
      ],
      "source": [
        "print(\"mehra fazel muhammad\")"
      ]
    },
    {
      "cell_type": "markdown",
      "metadata": {
        "id": "-ibTEhU-w2ku"
      },
      "source": [
        "#menampilkan nilai variabel"
      ]
    },
    {
      "cell_type": "code",
      "execution_count": null,
      "metadata": {
        "colab": {
          "base_uri": "https://localhost:8080/"
        },
        "id": "0Rjcm9IwxEOW",
        "outputId": "581a2615-2cdb-45ef-c907-522573930e12"
      },
      "outputs": [
        {
          "output_type": "stream",
          "name": "stdout",
          "text": [
            "68\n"
          ]
        }
      ],
      "source": [
        "berat_badan=68\n",
        "\n",
        "print(berat_badan)"
      ]
    },
    {
      "cell_type": "code",
      "execution_count": null,
      "metadata": {
        "colab": {
          "base_uri": "https://localhost:8080/"
        },
        "id": "wVpAmNhqxwaK",
        "outputId": "26ef8ecd-829e-4ad3-eda6-b07fee78078d"
      },
      "outputs": [
        {
          "output_type": "stream",
          "name": "stdout",
          "text": [
            "saya adalah jawa dan saya juga cindo\n"
          ]
        }
      ],
      "source": [
        "nama = \"saya adalah jawa dan saya juga cindo\"\n",
        "\n",
        "print(nama)"
      ]
    },
    {
      "cell_type": "code",
      "execution_count": null,
      "metadata": {
        "colab": {
          "base_uri": "https://localhost:8080/"
        },
        "id": "199BNE_LyMZP",
        "outputId": "763d7a2b-ad77-41d8-b1cd-63875ef65da8"
      },
      "outputs": [
        {
          "output_type": "stream",
          "name": "stdout",
          "text": [
            "25000000000000000\n"
          ]
        }
      ],
      "source": [
        "usia = \"25000000000000000\"\n",
        "\n",
        "print(usia)"
      ]
    },
    {
      "cell_type": "markdown",
      "metadata": {
        "id": "QemSg8lgyrXN"
      },
      "source": [
        "#menampilkan teks bebas dan variabel"
      ]
    },
    {
      "cell_type": "code",
      "execution_count": null,
      "metadata": {
        "colab": {
          "base_uri": "https://localhost:8080/"
        },
        "id": "ZaeVIBq1y0W2",
        "outputId": "61862368-1131-49ae-98cb-2534d06a29e5"
      },
      "outputs": [
        {
          "output_type": "stream",
          "name": "stdout",
          "text": [
            "berat badan saya 68 Ton\n"
          ]
        }
      ],
      "source": [
        "print(\"berat badan saya\", berat_badan, \"Ton\")"
      ]
    },
    {
      "cell_type": "code",
      "execution_count": null,
      "metadata": {
        "colab": {
          "base_uri": "https://localhost:8080/"
        },
        "id": "-uckvNO3zoAa",
        "outputId": "c1efa9c5-4e52-468e-847a-d2643cbf3dc5"
      },
      "outputs": [
        {
          "output_type": "stream",
          "name": "stdout",
          "text": [
            "perkenal kan nama saya saya adalah jawa dan saya juga cindo\n"
          ]
        }
      ],
      "source": [
        "print(\"perkenal kan nama saya\", nama)"
      ]
    },
    {
      "cell_type": "code",
      "execution_count": null,
      "metadata": {
        "colab": {
          "base_uri": "https://localhost:8080/"
        },
        "id": "nXo1C9Pv0pZh",
        "outputId": "c0d7be7c-f9f6-4a3a-9c0b-1da26379f46b"
      },
      "outputs": [
        {
          "output_type": "stream",
          "name": "stdout",
          "text": [
            "perkenal kan nama sayasaya adalah jawa dan saya juga cindo\n"
          ]
        }
      ],
      "source": [
        "print(\"perkenal kan nama saya\" + nama)"
      ]
    },
    {
      "cell_type": "code",
      "execution_count": null,
      "metadata": {
        "colab": {
          "base_uri": "https://localhost:8080/"
        },
        "id": "_4GY1Kem2zwr",
        "outputId": "23309765-bfbb-42e7-f648-4445bebb2689"
      },
      "outputs": [
        {
          "output_type": "stream",
          "name": "stdout",
          "text": [
            "berat badan saya 68 Ton\n"
          ]
        }
      ],
      "source": [
        "print(\"berat badan saya \" + str(berat_badan) + \" Ton\")"
      ]
    },
    {
      "cell_type": "code",
      "execution_count": null,
      "metadata": {
        "colab": {
          "base_uri": "https://localhost:8080/"
        },
        "id": "NODDI3kD22Ub",
        "outputId": "2ee76d6e-511f-44e3-dd98-5e7a218a95db"
      },
      "outputs": [
        {
          "output_type": "stream",
          "name": "stdout",
          "text": [
            "perkenalkan nama saya saya adalah jawa dan saya juga cindo.\n"
          ]
        }
      ],
      "source": [
        "print(f\"perkenalkan nama saya {nama}.\")"
      ]
    },
    {
      "cell_type": "markdown",
      "source": [
        "#Escape character"
      ],
      "metadata": {
        "id": "tfOJpYHDK4So"
      }
    },
    {
      "cell_type": "code",
      "source": [
        "print(\"nama : Mehra fazel\\nkelas:X.2\\nNo.absen:18\")"
      ],
      "metadata": {
        "colab": {
          "base_uri": "https://localhost:8080/"
        },
        "id": "-IhyAqafLujW",
        "outputId": "75df36e6-16bd-49be-ba10-da6ddb274d23"
      },
      "execution_count": null,
      "outputs": [
        {
          "output_type": "stream",
          "name": "stdout",
          "text": [
            "nama : Mehra fazel\n",
            "kelas:X.2\n",
            "No.absen:18\n"
          ]
        }
      ]
    },
    {
      "cell_type": "code",
      "source": [
        "print(\"nama:Mehra fazel\")\n",
        "print(\"kelas:X.2\")\n",
        "print(\"No.absen:18\")"
      ],
      "metadata": {
        "colab": {
          "base_uri": "https://localhost:8080/"
        },
        "id": "x-rHu4yyN2pk",
        "outputId": "184a03c1-ecb8-4ff8-de59-79c3dd1fbfd8"
      },
      "execution_count": null,
      "outputs": [
        {
          "output_type": "stream",
          "name": "stdout",
          "text": [
            "nama:Mehra fazel\n",
            "kelas:X.2\n",
            "No.absen:18\n"
          ]
        }
      ]
    },
    {
      "cell_type": "code",
      "source": [
        "print(\"\"\"Nama: Mehra fazel\n",
        "Kelas: X.2\n",
        "No. Absen: 18\"\"\")"
      ],
      "metadata": {
        "colab": {
          "base_uri": "https://localhost:8080/"
        },
        "id": "5bregPILkcPW",
        "outputId": "bab0dece-6cdf-4af6-c52e-090236528d98"
      },
      "execution_count": null,
      "outputs": [
        {
          "output_type": "stream",
          "name": "stdout",
          "text": [
            "Nama: Mehra fazel\n",
            "Kelas: X.2\n",
            "No. Absen: 18\n"
          ]
        }
      ]
    },
    {
      "cell_type": "code",
      "source": [
        "print(\"Nama\\t\\t: Mehra fazel\\nKelas\\t\\t: X.2\\nNo. Absen\\t: 18\")"
      ],
      "metadata": {
        "colab": {
          "base_uri": "https://localhost:8080/"
        },
        "id": "EEssh8ngkoST",
        "outputId": "2c571307-db09-48b4-e698-3d83678127d3"
      },
      "execution_count": null,
      "outputs": [
        {
          "output_type": "stream",
          "name": "stdout",
          "text": [
            "Nama\t\t: Mehra fazel\n",
            "Kelas\t\t: X.2\n",
            "No. Absen\t: 18\n"
          ]
        }
      ]
    },
    {
      "cell_type": "code",
      "source": [
        "print('Nama\\t\\t: Ja\\'far shodiq\\nKelas\\t\\t: X.2\\nNo. Absen\\t: 200')"
      ],
      "metadata": {
        "colab": {
          "base_uri": "https://localhost:8080/"
        },
        "id": "mIOsMEa8sWYO",
        "outputId": "3abbdde1-902e-4049-9a96-0774caa747e5"
      },
      "execution_count": null,
      "outputs": [
        {
          "output_type": "stream",
          "name": "stdout",
          "text": [
            "Nama\t\t: Ja'far shodiq\n",
            "Kelas\t\t: X.2\n",
            "No. Absen\t: 200\n"
          ]
        }
      ]
    },
    {
      "cell_type": "code",
      "source": [
        "print(\"Nama\\t\\t: Ja'far shodiq\\nKelas\\t\\t: X.2\\nNo. Absen\\t: 29\")"
      ],
      "metadata": {
        "colab": {
          "base_uri": "https://localhost:8080/"
        },
        "id": "zzmXiEdRsgMS",
        "outputId": "f32d1ce9-bc5f-4644-d8ed-2cec68a80dee"
      },
      "execution_count": null,
      "outputs": [
        {
          "output_type": "stream",
          "name": "stdout",
          "text": [
            "Nama\t\t: Ja'far shodiq\n",
            "Kelas\t\t: X.2\n",
            "No. Absen\t: 29\n"
          ]
        }
      ]
    },
    {
      "cell_type": "code",
      "source": [
        "print(\"Jadwal Pelajaran Mingguan\")\n",
        "print(\"-\" * 25) # Garis pemisah"
      ],
      "metadata": {
        "colab": {
          "base_uri": "https://localhost:8080/"
        },
        "id": "rgOutueVs15h",
        "outputId": "0e5b616e-8997-455f-9ec4-51b34595d1ee"
      },
      "execution_count": null,
      "outputs": [
        {
          "output_type": "stream",
          "name": "stdout",
          "text": [
            "Jadwal Pelajaran Mingguan\n",
            "-------------------------\n"
          ]
        }
      ]
    },
    {
      "cell_type": "code",
      "source": [
        "# Senin\n",
        "print(\"\\nSenin:\")\n",
        "print(f\"Jam 1: Matematika\")\n",
        "print(f\"Jam 2: Bahasa Inggris\")\n",
        "print(f\"Jam 3: Informatika\")"
      ],
      "metadata": {
        "colab": {
          "base_uri": "https://localhost:8080/"
        },
        "id": "z7ZoxuCRs5Ci",
        "outputId": "4b01c96a-7d19-4466-ff46-a85ca56a859b"
      },
      "execution_count": null,
      "outputs": [
        {
          "output_type": "stream",
          "name": "stdout",
          "text": [
            "\n",
            "Senin:\n",
            "Jam 1: Matematika\n",
            "Jam 2: Bahasa Inggris\n",
            "Jam 3: Informatika\n"
          ]
        }
      ]
    },
    {
      "cell_type": "code",
      "source": [
        "# Selasa\n",
        "print(\"\\nSelasa:\")\n",
        "print(f\"Jam 1: Bahasa\")\n",
        "print(f\"Jam 2: Sejarah\")\n",
        "print(f\"Jam 3: Olahraga\")"
      ],
      "metadata": {
        "colab": {
          "base_uri": "https://localhost:8080/"
        },
        "id": "xnsAsZaps8W3",
        "outputId": "61b18d46-2ca4-4df7-84c3-eb0711e634a4"
      },
      "execution_count": null,
      "outputs": [
        {
          "output_type": "stream",
          "name": "stdout",
          "text": [
            "\n",
            "Selasa:\n",
            "Jam 1: Bahasa\n",
            "Jam 2: Sejarah\n",
            "Jam 3: Olahraga\n"
          ]
        }
      ]
    },
    {
      "cell_type": "code",
      "source": [
        "# Rabu\n",
        "print(\"\\nRabu:\")\n",
        "print(f\"Jam 1: Informatika\")\n",
        "print(f\"Jam 2: Ma'rifatullah\")\n",
        "print(f\"Jam 3: Biologi\")"
      ],
      "metadata": {
        "colab": {
          "base_uri": "https://localhost:8080/"
        },
        "id": "wXFYxqPbs8-7",
        "outputId": "d26c3d9c-1355-40e6-b258-af1e8bdd62c7"
      },
      "execution_count": null,
      "outputs": [
        {
          "output_type": "stream",
          "name": "stdout",
          "text": [
            "\n",
            "Rabu:\n",
            "Jam 1: Informatika\n",
            "Jam 2: Ma'rifatullah\n",
            "Jam 3: Biologi\n"
          ]
        }
      ]
    },
    {
      "cell_type": "code",
      "source": [
        "print(\"Jadwal Pelajaran Mingguan\")\n",
        "print(\"-\" * 25) # Garis pemisah\n",
        "\n",
        "# Senin\n",
        "print(\"\\nSenin:\")\n",
        "print(f\"Jam 1: Matematika\")\n",
        "print(f\"Jam 2: Bahasa Inggris\")\n",
        "print(f\"Jam 3: Informatika\")\n",
        "\n",
        "# Selasa\n",
        "print(\"\\nSelasa:\")\n",
        "print(f\"Jam 1: Bahasa\")\n",
        "print(f\"Jam 2: Sejarah\")\n",
        "print(f\"Jam 3: Olahraga\")\n",
        "\n",
        "# Rabu\n",
        "print(\"\\nRabu:\")\n",
        "print(f\"Jam 1: Informatika\")\n",
        "print(f\"Jam 2: Ma'rifatullah\")\n",
        "print(f\"Jam 3: Biologi\")"
      ],
      "metadata": {
        "colab": {
          "base_uri": "https://localhost:8080/"
        },
        "id": "1bM1ta9atDKb",
        "outputId": "f24f55c9-a3f1-4aff-99d4-b7472b54abea"
      },
      "execution_count": null,
      "outputs": [
        {
          "output_type": "stream",
          "name": "stdout",
          "text": [
            "Jadwal Pelajaran Mingguan\n",
            "-------------------------\n",
            "\n",
            "Senin:\n",
            "Jam 1: Matematika\n",
            "Jam 2: Bahasa Inggris\n",
            "Jam 3: Informatika\n",
            "\n",
            "Selasa:\n",
            "Jam 1: Bahasa\n",
            "Jam 2: Sejarah\n",
            "Jam 3: Olahraga\n",
            "\n",
            "Rabu:\n",
            "Jam 1: Informatika\n",
            "Jam 2: Ma'rifatullah\n",
            "Jam 3: Biologi\n"
          ]
        }
      ]
    },
    {
      "cell_type": "markdown",
      "source": [
        "# perameter fungsi print"
      ],
      "metadata": {
        "id": "Y9_6yDuIzsBR"
      }
    },
    {
      "cell_type": "code",
      "source": [
        "Nama_siswa_1 = \"jielo\"\n",
        "Nama_siswa_2 = \"aida\"\n",
        "Nama_siswa_3 = \"dani\"\n",
        "Nama_siswa_4 = \"nurul\"\n",
        "\n",
        "print(\"÷\" * 24) # garis pemisah\n",
        "print(Nama_siswa_4, end=\"/\")\n",
        "print(Nama_siswa_2, end=\"/\")\n",
        "print(Nama_siswa_1, end=\"/\")\n",
        "print(Nama_siswa_3)\n",
        "print(\"÷\" * 24) # garis pemisah"
      ],
      "metadata": {
        "colab": {
          "base_uri": "https://localhost:8080/"
        },
        "id": "VuLyYJEm08FX",
        "outputId": "f6fbaf04-0f0f-42b1-e7ae-1d1f762c1ea4"
      },
      "execution_count": null,
      "outputs": [
        {
          "output_type": "stream",
          "name": "stdout",
          "text": [
            "÷÷÷÷÷÷÷÷÷÷÷÷÷÷÷÷÷÷÷÷÷÷÷÷\n",
            "nurul/aida/jielo/dani\n",
            "÷÷÷÷÷÷÷÷÷÷÷÷÷÷÷÷÷÷÷÷÷÷÷÷\n"
          ]
        }
      ]
    },
    {
      "cell_type": "code",
      "source": [
        "nama_siswa_5 = \"hasbi\"\n",
        "nama_siswa_6 = \"habibi\"\n",
        "nama_siswa_7 = \"rendra\"\n",
        "nama_siswa_8 = \"naufal\"\n",
        "\n",
        "print(\"=\" * 33) # garis pemisah\n",
        "print(nama_siswa_5, nama_siswa_8, nama_siswa_7, nama_siswa_6, nama_siswa_8, sep=\"*\")\n",
        "print(\"=\" * 33) # garis pemisah"
      ],
      "metadata": {
        "colab": {
          "base_uri": "https://localhost:8080/"
        },
        "id": "WNapjq404QIp",
        "outputId": "2ad6f076-4adf-4485-ad3c-f09b30229d74"
      },
      "execution_count": null,
      "outputs": [
        {
          "output_type": "stream",
          "name": "stdout",
          "text": [
            "=================================\n",
            "hasbi*naufal*rendra*habibi*naufal\n",
            "=================================\n"
          ]
        }
      ]
    },
    {
      "cell_type": "code",
      "source": [
        "print(\"<>\" * 59)\n",
        "print('bu shinta berkata \"berikut adalah daftar piket harian kelas X.2 yang yang disimpan di file D:\\\\man demak\\\\jadwal piket\"\\nsenin\\tselasa\\trabu\\njielo\\thasbi\\tnaufal\\nazam\\taida\\tnurul')\n",
        "print(\"<>\" * 59)"
      ],
      "metadata": {
        "colab": {
          "base_uri": "https://localhost:8080/"
        },
        "id": "mnLAYWUJ5ump",
        "outputId": "e8fd0e16-55d3-40a6-e472-34edb6d316d7"
      },
      "execution_count": null,
      "outputs": [
        {
          "output_type": "stream",
          "name": "stdout",
          "text": [
            "<><><><><><><><><><><><><><><><><><><><><><><><><><><><><><><><><><><><><><><><><><><><><><><><><><><><><><><><><><><>\n",
            "bu shinta berkata \"berikut adalah daftar piket harian kelas X.2 yang yang disimpan di file D:\\man demak\\jadwal piket\"\n",
            "senin\tselasa\trabu\n",
            "jielo\thasbi\tnaufal\n",
            "azam\taida\tnurul\n",
            "<><><><><><><><><><><><><><><><><><><><><><><><><><><><><><><><><><><><><><><><><><><><><><><><><><><><><><><><><><><>\n"
          ]
        }
      ]
    }
  ],
  "metadata": {
    "colab": {
      "provenance": [],
      "authorship_tag": "ABX9TyPC/LMAZIKHzg+6ttl3v7tr",
      "include_colab_link": true
    },
    "kernelspec": {
      "display_name": "Python 3",
      "name": "python3"
    },
    "language_info": {
      "name": "python"
    }
  },
  "nbformat": 4,
  "nbformat_minor": 0
}