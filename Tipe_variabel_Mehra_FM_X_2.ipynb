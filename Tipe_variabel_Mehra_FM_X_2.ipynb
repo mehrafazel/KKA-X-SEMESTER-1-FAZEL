{
  "nbformat": 4,
  "nbformat_minor": 0,
  "metadata": {
    "colab": {
      "provenance": [],
      "authorship_tag": "ABX9TyOsjSsVd1GItKj/Ntu8l6Vl",
      "include_colab_link": true
    },
    "kernelspec": {
      "name": "python3",
      "display_name": "Python 3"
    },
    "language_info": {
      "name": "python"
    }
  },
  "cells": [
    {
      "cell_type": "markdown",
      "metadata": {
        "id": "view-in-github",
        "colab_type": "text"
      },
      "source": [
        "<a href=\"https://colab.research.google.com/github/mehrafazel/KKA-X-SEMESTER-1-FAZEL/blob/main/Tipe_variabel_Mehra_FM_X_2.ipynb\" target=\"_parent\"><img src=\"https://colab.research.google.com/assets/colab-badge.svg\" alt=\"Open In Colab\"/></a>"
      ]
    },
    {
      "cell_type": "markdown",
      "source": [
        "Nama:Mehra fazel muhammad\n",
        "\n",
        "Kelas:X.2\n",
        "\n",
        "No.absen:19"
      ],
      "metadata": {
        "id": "K_W3GgtTCe81"
      }
    },
    {
      "cell_type": "markdown",
      "source": [
        "#konsep dasar variabel"
      ],
      "metadata": {
        "id": "SAryNRjCDAWm"
      }
    },
    {
      "cell_type": "code",
      "source": [
        "print('mehrafazelkka@gmail.com')\n",
        "print('mehrafazelkka@gmail.com')\n",
        "print('mehrafazelkka@gmail.com')\n",
        "print('mehrafazelkka@gmail.com')"
      ],
      "metadata": {
        "colab": {
          "base_uri": "https://localhost:8080/"
        },
        "id": "CcS12pysDFkD",
        "outputId": "414d78ac-14a3-44a9-dd43-6030bbb03e25"
      },
      "execution_count": null,
      "outputs": [
        {
          "output_type": "stream",
          "name": "stdout",
          "text": [
            "mehrafazelkka@gmail.com\n",
            "mehrafazelkka@gmail.com\n",
            "mehrafazelkka@gmail.com\n",
            "mehrafazelkka@gmail.com\n"
          ]
        }
      ]
    },
    {
      "cell_type": "code",
      "source": [
        "email_user = \"mehrafazelkka@gmail.com\"\n",
        "\n",
        "print(email_user)\n",
        "\n",
        "print(email_user)\n",
        "\n",
        "print(email_user)"
      ],
      "metadata": {
        "colab": {
          "base_uri": "https://localhost:8080/"
        },
        "id": "neZBhSslDYYP",
        "outputId": "cad7ed7d-3eb8-44e2-cd16-26b9cb7f4e15"
      },
      "execution_count": null,
      "outputs": [
        {
          "output_type": "stream",
          "name": "stdout",
          "text": [
            "mehrafazelkka@gmail.com\n",
            "mehrafazelkka@gmail.com\n",
            "mehrafazelkka@gmail.com\n"
          ]
        }
      ]
    },
    {
      "cell_type": "markdown",
      "source": [
        "#Peraturan Penulisan Variabel"
      ],
      "metadata": {
        "id": "aC-Cihh3DgLk"
      }
    },
    {
      "cell_type": "code",
      "source": [
        "harga telur = 1500000000\n",
        "print (harga telur)"
      ],
      "metadata": {
        "colab": {
          "base_uri": "https://localhost:8080/",
          "height": 124
        },
        "id": "Qm2fioQoDvRh",
        "outputId": "c1e621e3-21dd-4402-f226-6e3e493d7583"
      },
      "execution_count": null,
      "outputs": [
        {
          "output_type": "error",
          "ename": "SyntaxError",
          "evalue": "invalid syntax (ipython-input-731887238.py, line 1)",
          "traceback": [
            "\u001b[0;36m  File \u001b[0;32m\"/tmp/ipython-input-731887238.py\"\u001b[0;36m, line \u001b[0;32m1\u001b[0m\n\u001b[0;31m    harga telur = 1500000000\u001b[0m\n\u001b[0m          ^\u001b[0m\n\u001b[0;31mSyntaxError\u001b[0m\u001b[0;31m:\u001b[0m invalid syntax\n"
          ]
        }
      ]
    },
    {
      "cell_type": "code",
      "source": [
        "hargatelur = 1500000000\n",
        "print (hargatelur)"
      ],
      "metadata": {
        "colab": {
          "base_uri": "https://localhost:8080/"
        },
        "id": "WeLDe0w4D5TM",
        "outputId": "4a2b0016-3403-407a-83bd-753a221b0cde"
      },
      "execution_count": null,
      "outputs": [
        {
          "output_type": "stream",
          "name": "stdout",
          "text": [
            "1500000000\n"
          ]
        }
      ]
    },
    {
      "cell_type": "code",
      "source": [
        "1_nama siswa = \"Ahmad Dhani\"\n",
        "\n",
        "print(1_nama_siswa)"
      ],
      "metadata": {
        "colab": {
          "base_uri": "https://localhost:8080/",
          "height": 124
        },
        "id": "fLuRtDnEEJMX",
        "outputId": "99d5ce56-c219-4787-ef5f-18f699e221d0"
      },
      "execution_count": null,
      "outputs": [
        {
          "output_type": "error",
          "ename": "SyntaxError",
          "evalue": "invalid decimal literal (ipython-input-432572075.py, line 1)",
          "traceback": [
            "\u001b[0;36m  File \u001b[0;32m\"/tmp/ipython-input-432572075.py\"\u001b[0;36m, line \u001b[0;32m1\u001b[0m\n\u001b[0;31m    1_nama siswa = \"Ahmad Dhani\"\u001b[0m\n\u001b[0m     ^\u001b[0m\n\u001b[0;31mSyntaxError\u001b[0m\u001b[0;31m:\u001b[0m invalid decimal literal\n"
          ]
        }
      ]
    },
    {
      "cell_type": "code",
      "source": [
        "if = \"Jawir(Jawa tajir) \"\n",
        "\n",
        "print(if)"
      ],
      "metadata": {
        "colab": {
          "base_uri": "https://localhost:8080/",
          "height": 124
        },
        "id": "z183nEOHEOiE",
        "outputId": "cc9ab64f-5a7e-498e-fd68-3998644553f7"
      },
      "execution_count": null,
      "outputs": [
        {
          "output_type": "error",
          "ename": "SyntaxError",
          "evalue": "invalid syntax (ipython-input-2704150015.py, line 1)",
          "traceback": [
            "\u001b[0;36m  File \u001b[0;32m\"/tmp/ipython-input-2704150015.py\"\u001b[0;36m, line \u001b[0;32m1\u001b[0m\n\u001b[0;31m    if = \"Jawir(Jawa tajir) \"\u001b[0m\n\u001b[0m       ^\u001b[0m\n\u001b[0;31mSyntaxError\u001b[0m\u001b[0;31m:\u001b[0m invalid syntax\n"
          ]
        }
      ]
    },
    {
      "cell_type": "code",
      "source": [
        "If = \"Jawir(Jawa tajir) \"\n",
        "\n",
        "print(If)"
      ],
      "metadata": {
        "colab": {
          "base_uri": "https://localhost:8080/"
        },
        "id": "GsCO0GKTFP7F",
        "outputId": "89507240-703c-4a39-cf2c-0c9bb18fcc55"
      },
      "execution_count": null,
      "outputs": [
        {
          "output_type": "stream",
          "name": "stdout",
          "text": [
            "Jawir(Jawa tajir) \n"
          ]
        }
      ]
    },
    {
      "cell_type": "code",
      "source": [
        "print = \"Jomok\"\n",
        "\n",
        "print(print)"
      ],
      "metadata": {
        "colab": {
          "base_uri": "https://localhost:8080/",
          "height": 228
        },
        "id": "8kICkSqcFfsv",
        "outputId": "3f222742-1c43-4534-c651-b96e3468ad02"
      },
      "execution_count": null,
      "outputs": [
        {
          "output_type": "error",
          "ename": "TypeError",
          "evalue": "'str' object is not callable",
          "traceback": [
            "\u001b[0;31m---------------------------------------------------------------------------\u001b[0m",
            "\u001b[0;31mTypeError\u001b[0m                                 Traceback (most recent call last)",
            "\u001b[0;32m/tmp/ipython-input-3411134403.py\u001b[0m in \u001b[0;36m<cell line: 0>\u001b[0;34m()\u001b[0m\n\u001b[1;32m      1\u001b[0m \u001b[0mprint\u001b[0m \u001b[0;34m=\u001b[0m \u001b[0;34m\"Jomok\"\u001b[0m\u001b[0;34m\u001b[0m\u001b[0;34m\u001b[0m\u001b[0m\n\u001b[1;32m      2\u001b[0m \u001b[0;34m\u001b[0m\u001b[0m\n\u001b[0;32m----> 3\u001b[0;31m \u001b[0mprint\u001b[0m\u001b[0;34m(\u001b[0m\u001b[0mprint\u001b[0m\u001b[0;34m)\u001b[0m\u001b[0;34m\u001b[0m\u001b[0;34m\u001b[0m\u001b[0m\n\u001b[0m",
            "\u001b[0;31mTypeError\u001b[0m: 'str' object is not callable"
          ]
        }
      ]
    },
    {
      "cell_type": "code",
      "source": [
        "Print = \"Jomok\"\n",
        "print(Print)"
      ],
      "metadata": {
        "colab": {
          "base_uri": "https://localhost:8080/"
        },
        "id": "mmo2LJd3GA51",
        "outputId": "a9b6ff6c-9156-486b-f577-c5c0092f5b5d"
      },
      "execution_count": null,
      "outputs": [
        {
          "output_type": "stream",
          "name": "stdout",
          "text": [
            "Jomok\n"
          ]
        }
      ]
    },
    {
      "cell_type": "code",
      "source": [
        "USIA = 17\n",
        "\n",
        "print(Usia)"
      ],
      "metadata": {
        "colab": {
          "base_uri": "https://localhost:8080/",
          "height": 228
        },
        "id": "sMX5PmhlG66L",
        "outputId": "54fd1eb9-685e-4116-9142-1be51975b237"
      },
      "execution_count": null,
      "outputs": [
        {
          "output_type": "error",
          "ename": "NameError",
          "evalue": "name 'Usia' is not defined",
          "traceback": [
            "\u001b[0;31m---------------------------------------------------------------------------\u001b[0m",
            "\u001b[0;31mNameError\u001b[0m                                 Traceback (most recent call last)",
            "\u001b[0;32m/tmp/ipython-input-3366841127.py\u001b[0m in \u001b[0;36m<cell line: 0>\u001b[0;34m()\u001b[0m\n\u001b[1;32m      1\u001b[0m \u001b[0mUSIA\u001b[0m \u001b[0;34m=\u001b[0m \u001b[0;36m17\u001b[0m\u001b[0;34m\u001b[0m\u001b[0;34m\u001b[0m\u001b[0m\n\u001b[1;32m      2\u001b[0m \u001b[0;34m\u001b[0m\u001b[0m\n\u001b[0;32m----> 3\u001b[0;31m \u001b[0mprint\u001b[0m\u001b[0;34m(\u001b[0m\u001b[0mUsia\u001b[0m\u001b[0;34m)\u001b[0m\u001b[0;34m\u001b[0m\u001b[0;34m\u001b[0m\u001b[0m\n\u001b[0m",
            "\u001b[0;31mNameError\u001b[0m: name 'Usia' is not defined"
          ]
        }
      ]
    },
    {
      "cell_type": "code",
      "source": [
        "print(USIA)"
      ],
      "metadata": {
        "colab": {
          "base_uri": "https://localhost:8080/"
        },
        "id": "2s6-0tRZG8LN",
        "outputId": "681f6d71-7820-4d63-e8ce-2811b246e104"
      },
      "execution_count": null,
      "outputs": [
        {
          "output_type": "stream",
          "name": "stdout",
          "text": [
            "17\n"
          ]
        }
      ]
    },
    {
      "cell_type": "code",
      "source": [
        "_ = \"jawir\"\n",
        "_ = \"jomok\""
      ],
      "metadata": {
        "id": "t5Ga1YhBHPxL"
      },
      "execution_count": null,
      "outputs": []
    },
    {
      "cell_type": "code",
      "source": [
        "print(_)"
      ],
      "metadata": {
        "colab": {
          "base_uri": "https://localhost:8080/"
        },
        "id": "fcOTKEmpHc56",
        "outputId": "47ab38f8-fc50-41f1-db3e-ddad51bf9b43"
      },
      "execution_count": null,
      "outputs": [
        {
          "output_type": "stream",
          "name": "stdout",
          "text": [
            "jawir\n"
          ]
        }
      ]
    },
    {
      "cell_type": "code",
      "source": [
        "print(_)"
      ],
      "metadata": {
        "colab": {
          "base_uri": "https://localhost:8080/"
        },
        "id": "39UyKOpPHinK",
        "outputId": "70ca0bde-3a3f-4d23-f1a6-bef76cb26727"
      },
      "execution_count": null,
      "outputs": [
        {
          "output_type": "stream",
          "name": "stdout",
          "text": [
            "jomok\n"
          ]
        }
      ]
    },
    {
      "cell_type": "markdown",
      "source": [
        "#Assignment"
      ],
      "metadata": {
        "id": "bc3w1pbeLb4T"
      }
    },
    {
      "cell_type": "code",
      "source": [
        "bb_fazel = 9999\n",
        "\n",
        "bb_dani = 99909\n",
        "\n",
        "print(bb_dani)\n",
        "\n",
        "print(bb_fazel)"
      ],
      "metadata": {
        "colab": {
          "base_uri": "https://localhost:8080/"
        },
        "id": "NdljJ_fHLmSJ",
        "outputId": "ea4c7141-7b18-4979-87e5-051238ff5e34"
      },
      "execution_count": 5,
      "outputs": [
        {
          "output_type": "stream",
          "name": "stdout",
          "text": [
            "99909\n",
            "9999\n"
          ]
        }
      ]
    },
    {
      "cell_type": "code",
      "source": [
        "#Multiple assignment\n",
        "\n",
        "bb_fazel, bb_dani = 9999, 99909\n",
        "\n",
        "print(bb_dani)\n",
        "\n",
        "print(bb_fazel)"
      ],
      "metadata": {
        "colab": {
          "base_uri": "https://localhost:8080/"
        },
        "id": "K2fo58WUMJTN",
        "outputId": "098a2f7f-e703-4a91-c336-6882e6b29933"
      },
      "execution_count": 4,
      "outputs": [
        {
          "output_type": "stream",
          "name": "stdout",
          "text": [
            "99909\n",
            "9999\n"
          ]
        }
      ]
    },
    {
      "cell_type": "code",
      "source": [
        "bb_fazel, bb_dani = 9999, 99909, 000000000\n",
        "\n",
        "print(bb_dani)\n",
        "\n",
        "print(bb_fazel)"
      ],
      "metadata": {
        "colab": {
          "base_uri": "https://localhost:8080/",
          "height": 297
        },
        "id": "AVBcnObvMV8O",
        "outputId": "5cb47890-9628-4571-9f96-6f4b5328c54c"
      },
      "execution_count": 6,
      "outputs": [
        {
          "output_type": "error",
          "ename": "ValueError",
          "evalue": "too many values to unpack (expected 2)",
          "traceback": [
            "\u001b[0;31m---------------------------------------------------------------------------\u001b[0m",
            "\u001b[0;31mValueError\u001b[0m                                Traceback (most recent call last)",
            "\u001b[0;32m/tmp/ipython-input-1906277773.py\u001b[0m in \u001b[0;36m<cell line: 0>\u001b[0;34m()\u001b[0m\n\u001b[0;32m----> 1\u001b[0;31m \u001b[0mbb_fazel\u001b[0m\u001b[0;34m,\u001b[0m \u001b[0mbb_dani\u001b[0m \u001b[0;34m=\u001b[0m \u001b[0;36m9999\u001b[0m\u001b[0;34m,\u001b[0m \u001b[0;36m99909\u001b[0m\u001b[0;34m,\u001b[0m \u001b[0;36m000000000\u001b[0m\u001b[0;34m\u001b[0m\u001b[0;34m\u001b[0m\u001b[0m\n\u001b[0m\u001b[1;32m      2\u001b[0m \u001b[0;34m\u001b[0m\u001b[0m\n\u001b[1;32m      3\u001b[0m \u001b[0mprint\u001b[0m\u001b[0;34m(\u001b[0m\u001b[0mbb_dani\u001b[0m\u001b[0;34m)\u001b[0m\u001b[0;34m\u001b[0m\u001b[0;34m\u001b[0m\u001b[0m\n\u001b[1;32m      4\u001b[0m \u001b[0;34m\u001b[0m\u001b[0m\n\u001b[1;32m      5\u001b[0m \u001b[0mprint\u001b[0m\u001b[0;34m(\u001b[0m\u001b[0mbb_fazel\u001b[0m\u001b[0;34m)\u001b[0m\u001b[0;34m\u001b[0m\u001b[0;34m\u001b[0m\u001b[0m\n",
            "\u001b[0;31mValueError\u001b[0m: too many values to unpack (expected 2)"
          ]
        }
      ]
    },
    {
      "cell_type": "code",
      "source": [
        "Nama_siswa_1, Nama_siswa_2 = \"Jawir\", \"Jawa\"\n",
        "\n",
        "print(Nama_siswa_1)\n",
        "print(Nama_siswa_2)"
      ],
      "metadata": {
        "colab": {
          "base_uri": "https://localhost:8080/"
        },
        "id": "MUimtE2IOaZ8",
        "outputId": "f0e30fb3-5636-46bb-c737-b2213afbce29"
      },
      "execution_count": 12,
      "outputs": [
        {
          "output_type": "stream",
          "name": "stdout",
          "text": [
            "Jawir\n",
            "Jawa\n"
          ]
        }
      ]
    },
    {
      "cell_type": "code",
      "source": [
        "bb_fazel, bb_dani, bb_adli = 9999, 99909\n",
        "\n",
        "print(bb_dani)\n",
        "print(bb_fazel)"
      ],
      "metadata": {
        "colab": {
          "base_uri": "https://localhost:8080/",
          "height": 280
        },
        "id": "aKQyOgXrOxBV",
        "outputId": "3b462b1a-c753-4b29-984c-fd1e0571344f"
      },
      "execution_count": 13,
      "outputs": [
        {
          "output_type": "error",
          "ename": "ValueError",
          "evalue": "not enough values to unpack (expected 3, got 2)",
          "traceback": [
            "\u001b[0;31m---------------------------------------------------------------------------\u001b[0m",
            "\u001b[0;31mValueError\u001b[0m                                Traceback (most recent call last)",
            "\u001b[0;32m/tmp/ipython-input-1230219139.py\u001b[0m in \u001b[0;36m<cell line: 0>\u001b[0;34m()\u001b[0m\n\u001b[0;32m----> 1\u001b[0;31m \u001b[0mbb_fazel\u001b[0m\u001b[0;34m,\u001b[0m \u001b[0mbb_dani\u001b[0m\u001b[0;34m,\u001b[0m \u001b[0mbb_adli\u001b[0m \u001b[0;34m=\u001b[0m \u001b[0;36m9999\u001b[0m\u001b[0;34m,\u001b[0m \u001b[0;36m99909\u001b[0m\u001b[0;34m\u001b[0m\u001b[0;34m\u001b[0m\u001b[0m\n\u001b[0m\u001b[1;32m      2\u001b[0m \u001b[0;34m\u001b[0m\u001b[0m\n\u001b[1;32m      3\u001b[0m \u001b[0mprint\u001b[0m\u001b[0;34m(\u001b[0m\u001b[0mbb_dani\u001b[0m\u001b[0;34m)\u001b[0m\u001b[0;34m\u001b[0m\u001b[0;34m\u001b[0m\u001b[0m\n\u001b[1;32m      4\u001b[0m \u001b[0mprint\u001b[0m\u001b[0;34m(\u001b[0m\u001b[0mbb_fazel\u001b[0m\u001b[0;34m)\u001b[0m\u001b[0;34m\u001b[0m\u001b[0;34m\u001b[0m\u001b[0m\n",
            "\u001b[0;31mValueError\u001b[0m: not enough values to unpack (expected 3, got 2)"
          ]
        }
      ]
    },
    {
      "cell_type": "code",
      "source": [
        "#chain assignment\n",
        "\n",
        "bb_hasbi = bb_dani = 9099\n",
        "\n",
        "print(bb_hasbi)\n",
        "print(bb_dani)"
      ],
      "metadata": {
        "colab": {
          "base_uri": "https://localhost:8080/"
        },
        "id": "rZS0JEtlO6C4",
        "outputId": "9fd28c19-59e7-4018-e8fb-5867bd90a0a0"
      },
      "execution_count": 18,
      "outputs": [
        {
          "output_type": "stream",
          "name": "stdout",
          "text": [
            "9099\n",
            "9099\n"
          ]
        }
      ]
    },
    {
      "cell_type": "markdown",
      "source": [
        "#Cara penulisan operator pada python"
      ],
      "metadata": {
        "id": "2lgPYvuqPQpR"
      }
    },
    {
      "cell_type": "code",
      "source": [
        "#Tanpa variabel\n",
        "\n",
        "print(10098984498+184739202)"
      ],
      "metadata": {
        "colab": {
          "base_uri": "https://localhost:8080/"
        },
        "id": "BwwJZVnzPSmf",
        "outputId": "b0a0cb28-102f-46c1-9713-2d88223bb883"
      },
      "execution_count": 23,
      "outputs": [
        {
          "output_type": "stream",
          "name": "stdout",
          "text": [
            "10283723700\n"
          ]
        }
      ]
    },
    {
      "cell_type": "code",
      "source": [
        "print(\"JAWIR\")"
      ],
      "metadata": {
        "colab": {
          "base_uri": "https://localhost:8080/"
        },
        "id": "Nxhf8CqwPbS2",
        "outputId": "f76b0a6c-aed5-4073-9180-77b6e5a8ffc3"
      },
      "execution_count": 22,
      "outputs": [
        {
          "output_type": "stream",
          "name": "stdout",
          "text": [
            "JAWIR\n"
          ]
        }
      ]
    },
    {
      "cell_type": "code",
      "source": [
        "print(\"9+6\")"
      ],
      "metadata": {
        "colab": {
          "base_uri": "https://localhost:8080/"
        },
        "id": "vG3AeMovPcA-",
        "outputId": "fa401616-7778-445e-aaed-59f0a9cd2d8c"
      },
      "execution_count": 21,
      "outputs": [
        {
          "output_type": "stream",
          "name": "stdout",
          "text": [
            "9+6\n"
          ]
        }
      ]
    },
    {
      "cell_type": "code",
      "source": [
        "\n",
        "#Operand disimpan ke variabel\n",
        "jumlah_hp_habibi = 10\n",
        "jumlah_hp_syauqi = 6\n",
        "\n",
        "print(jumlah_hp_habibi + jumlah_hp_syauqi)"
      ],
      "metadata": {
        "colab": {
          "base_uri": "https://localhost:8080/"
        },
        "id": "8yD2ECWOP0hG",
        "outputId": "5288838e-c1bb-4dd4-e186-aff3a65f1940"
      },
      "execution_count": 29,
      "outputs": [
        {
          "output_type": "stream",
          "name": "stdout",
          "text": [
            "16\n"
          ]
        }
      ]
    },
    {
      "cell_type": "code",
      "source": [
        "#Hasil operasi disimpan ke variabel\n",
        "\n",
        "total_hp = 10 + 6\n",
        "\n",
        "print(total_hp)"
      ],
      "metadata": {
        "colab": {
          "base_uri": "https://localhost:8080/"
        },
        "id": "pr2JqH44P4jj",
        "outputId": "118a5d27-f6f4-47e5-a1cc-939d8dd9cc2f"
      },
      "execution_count": 30,
      "outputs": [
        {
          "output_type": "stream",
          "name": "stdout",
          "text": [
            "16\n"
          ]
        }
      ]
    },
    {
      "cell_type": "code",
      "source": [
        "#Operand dan hasil operasi disimpan ke variabel\n",
        "\n",
        "jumlah_hp_habibi = 19\n",
        "\n",
        "jumlah_hp_syauqi = 60\n",
        "\n",
        "total_hp = jumlah_hp_habibi + jumlah_hp_syauqi\n",
        "\n",
        "print(total_hp)"
      ],
      "metadata": {
        "colab": {
          "base_uri": "https://localhost:8080/"
        },
        "id": "huKjWfTxP-e1",
        "outputId": "5b3bf4e5-c45a-4c48-d720-f0f5722f4743"
      },
      "execution_count": 31,
      "outputs": [
        {
          "output_type": "stream",
          "name": "stdout",
          "text": [
            "79\n"
          ]
        }
      ]
    }
  ]
}